{
 "cells": [
  {
   "cell_type": "code",
   "execution_count": 265,
   "metadata": {
    "tags": []
   },
   "outputs": [
    {
     "name": "stdout",
     "output_type": "stream",
     "text": [
      "E:\\SamplePhotos\\P1240036.jpg\n"
     ]
    }
   ],
   "source": [
    "from PIL import Image\n",
    "import numpy as np\n",
    "\n",
    "file_path = 'E:\\SamplePhotos\\P1240036.jpg' # defien file path\n",
    "im = Image.open(file_path) # import pictuate as Pillow Image object\n",
    "pix = np.array(im) # convert to Numpy aray\n",
    "h, w, d = orig_shape = tuple(pix.shape) # store original shape of array\n",
    "pix_flat = np.reshape(pix, (h*w, d)) # flatten image for clustering\n",
    "print(file_path)"
   ]
  },
  {
   "cell_type": "code",
   "execution_count": 266,
   "outputs": [
    {
     "name": "stderr",
     "output_type": "stream",
     "text": [
      "Intel(R) Extension for Scikit-learn* enabled (https://github.com/intel/scikit-learn-intelex)\n"
     ]
    },
    {
     "name": "stdout",
     "output_type": "stream",
     "text": [
      "5\n",
      "0.08228275\n",
      "6\n",
      "0.08182216666666667\n",
      "7\n",
      "0.07806033333333333\n",
      "8\n",
      "0.07194491666666666\n",
      "9\n",
      "0.031747\n",
      "10\n",
      "0.007352833333333334\n"
     ]
    }
   ],
   "source": [
    "## initiate sklearnex\n",
    "from sklearnex import patch_sklearn\n",
    "patch_sklearn()\n",
    "from sklearn.cluster import KMeans # import K means\n",
    "import matplotlib.pyplot as plt\n",
    "\n",
    "no_clusters = 5 # start clustering from 5 clusters\n",
    "clusterMin = 1 # set cluster min at 1 to enter while loop\n",
    "while clusterMin > 0.01: # continue to increase number of clusters until the smallest cluster becomes suficently small to just be stripes\n",
    "    print(no_clusters)\n",
    "    kmeans = KMeans(n_clusters = no_clusters) # define cluster object\n",
    "    cluster = kmeans.fit(pix_flat) # find clusters\n",
    "    labels = cluster.labels_ # save cluster labels as a list\n",
    "    percent = np.unique(labels, return_counts=True) # get counts # pixels in each cluster\n",
    "    stripeColour = np.where(percent[1] == min(percent[1])) # return label of least frequent pixel\n",
    "    clusterMin = min(percent[1]) / (h*w) # find fraction of picture occupied by smallest cluster\n",
    "    print(clusterMin)\n",
    "    no_clusters += 1 # increase cluster counter by 1"
   ],
   "metadata": {
    "collapsed": false,
    "pycharm": {
     "name": "#%%\n"
    }
   }
  },
  {
   "cell_type": "code",
   "execution_count": 292,
   "outputs": [],
   "source": [
    "labels = np.reshape(labels,(h,w)) # reshape labels array in 2d array (like picture)\n",
    "stripes = np.where(labels == stripeColour) # get coordinates of all pixels which are a stripe colour\n",
    "stripes = np.asarray(stripes) # build 2d array of stripe coordinates for clustering\n",
    "stripes = np.transpose(stripes) # transpose array so as cordinates are pairs"
   ],
   "metadata": {
    "collapsed": false,
    "pycharm": {
     "name": "#%%\n"
    }
   }
  },
  {
   "cell_type": "code",
   "execution_count": 400,
   "outputs": [],
   "source": [
    "stripes = stripes[np.lexsort((stripes[:,0], stripes[:,1]))] # sort stripes array by column values and then the row values\n",
    "start_stop = np.where(np.diff(stripes[:,0], axis=0) != 1) # return index of locations where the difference between elements is not 1\n",
    "start_stop = list(start_stop[0]) # convert start_stop to list\n",
    "start_stop.insert(0,0) # insert a leading zero to mark start of first stripe\n",
    "ind = [int(sum(start_stop[m:m+2])/2) for m in range(0, len(start_stop), 2)] # list comprehension --> finds the average of each index pair, converts to integer\n",
    "stripes_Vexagerated = np.copy(stripes[ind,:]) # slice single value for each stripe and move into V-Exagerate\n",
    "stripes_Vexagerated[:,0] = stripes_Vexagerated[:,0]*stripes_Vexagerated[:,0]"
   ],
   "metadata": {
    "collapsed": false,
    "pycharm": {
     "name": "#%%\n"
    }
   }
  },
  {
   "cell_type": "code",
   "execution_count": 401,
   "outputs": [
    {
     "data": {
      "text/plain": "[<matplotlib.lines.Line2D at 0x1b61835eaf0>]"
     },
     "execution_count": 401,
     "metadata": {},
     "output_type": "execute_result"
    },
    {
     "data": {
      "text/plain": "<Figure size 432x288 with 1 Axes>",
      "image/png": "[encoded data removed]"
     },
     "metadata": {
      "needs_background": "light"
     },
     "output_type": "display_data"
    }
   ],
   "source": [
    "import matplotlib.pyplot as plt\n",
    "plt.plot(stripes[:,1], stripes[:,0], 'o', markersize=0.01, color='blue')\n",
    "plt.plot(stripes_Vexagerated[:,1], stripes_Vexagerated[:,0], 'o', markersize=1, color='green')\n"
   ],
   "metadata": {
    "collapsed": false,
    "pycharm": {
     "name": "#%%\n"
    }
   }
  },
  {
   "cell_type": "code",
   "execution_count": 344,
   "outputs": [],
   "source": [],
   "metadata": {
    "collapsed": false,
    "pycharm": {
     "name": "#%%\n"
    }
   }
  },
  {
   "cell_type": "code",
   "execution_count": 404,
   "outputs": [
    {
     "name": "stdout",
     "output_type": "stream",
     "text": [
      "5000\n"
     ]
    },
    {
     "data": {
      "text/plain": "<matplotlib.collections.PathCollection at 0x1b60d52b910>"
     },
     "execution_count": 404,
     "metadata": {},
     "output_type": "execute_result"
    },
    {
     "data": {
      "text/plain": "<Figure size 432x288 with 1 Axes>",
      "image/png": "[encoded data removed]"
     },
     "metadata": {
      "needs_background": "light"
     },
     "output_type": "display_data"
    }
   ],
   "source": [
    "from sklearn.cluster import DBSCAN # import DB Scan\n",
    "distance = 5000 # set inital eps (distance to jump in clustering) to 25\n",
    "repeated_cluster = True # set to true to enter while loop\n",
    "\n",
    "print(distance)\n",
    "stripe_clusters = DBSCAN(eps=distance, min_samples=1).fit(stripes_Vexagerated) # fit clusters using DB SCAN\n",
    "plt.scatter(stripes_Vexagerated[:,1], stripes_Vexagerated[:,0],c=stripe_clusters.labels_.astype(float))\n"
   ],
   "metadata": {
    "collapsed": false,
    "pycharm": {
     "name": "#%%\n"
    }
   }
  },
  {
   "cell_type": "code",
   "execution_count": null,
   "outputs": [],
   "source": [
    "plt.scatter(stripes_Vexagerated[:,0])"
   ],
   "metadata": {
    "collapsed": false,
    "pycharm": {
     "name": "#%%\n"
    }
   }
  },
  {
   "cell_type": "code",
   "execution_count": null,
   "outputs": [],
   "source": [
    "\n",
    "assesment_image = np.empty((h,w)) # make empty array to build image of stripe clusters in\n",
    "for i in range(len(stripes_Vexagerated)): # iterate over all stripe coridnates\n",
    "    n = stripes_Vexagerated[i,0] # assign n the row number of the stripe\n",
    "    n = int(n/10) # remove vertical exageration\n",
    "    m = stripes_Vexagerated[i,1] # assign m the column number of the stripe\n",
    "    assesment_image[n,m] = stripe_clusters.labels_[i] # assign the label\n",
    "\n",
    "\n",
    "repeated_cluster = np.any(np.diff(np.sort(assesment_image, axis=0), axis=0) == 0) # determine if the difference between any 2 elements adjacent elements                                                                                      is zero in the sorted columns, therefore there is a repeated value\n",
    "distance -= 5\n",
    "print(repeated_cluster)\n",
    "\n"
   ],
   "metadata": {
    "collapsed": false,
    "pycharm": {
     "name": "#%%\n"
    }
   }
  },
  {
   "cell_type": "code",
   "execution_count": null,
   "outputs": [],
   "source": [
    "\n",
    "ass_image = np.empty(orig_shape) # make empty array to build image of stripe clusters in\n",
    "\n",
    "for i in range(len(stripes_Vexagerated)): # iterate over all stripe coridnates\n",
    "    n = stripes_Vexagerated[i,0] # assign n the row number of the stripe\n",
    "    n = int(n/10) # remove vertical exageration\n",
    "    m = stripes_Vexagerated[i,1] # assign m the column number of the stripe\n",
    "    ass_image[n,m] = colours[i] # assign the colour according to the label\n",
    "\n",
    "colours = [] # empty list to build colour for each cluster in\n",
    "counter = 0\n",
    "while counter < len(np.unique(stripe_clusters.labels_)): # build enough colour for each cluster\n",
    "    colours.append(np.random.choice(range(256), size = 3)) # make random colour\n",
    "    counter += 1\n",
    "colours = np.array(colours) # convert colours to array\n",
    "colours = colours[stripe_clusters.labels_] # assign colours to each test stripe\n",
    "\n",
    "plt.imshow(ass_image.astype('uint8'))\n",
    "plt.show()\n",
    "plt.imsave('stripes.png', ass_image.astype('uint8'))"
   ],
   "metadata": {
    "collapsed": false,
    "pycharm": {
     "name": "#%%\n"
    }
   }
  },
  {
   "cell_type": "code",
   "execution_count": 207,
   "outputs": [],
   "source": [
    "colours = [] # empty list to build colour for each cluster in\n",
    "counter = 0\n",
    "while counter < len(np.unique(stripe_clusters.labels_)): # build enough colour for each cluster\n",
    "    colours.append(np.random.choice(range(256), size = 3)) # make random colour\n",
    "    counter += 1\n",
    "colours = np.array(colours) # convert colours to array\n",
    "colours = colours[stripe_clusters.labels_] # assign colours to each test stripe"
   ],
   "metadata": {
    "collapsed": false,
    "pycharm": {
     "name": "#%%\n"
    }
   }
  },
  {
   "cell_type": "code",
   "execution_count": 208,
   "outputs": [],
   "source": [
    "ass_image = np.empty(orig_shape) # make empty array to build image of stripe clusters in\n",
    "\n",
    "for i in range(len(stripes)): # iterate over all stripe coridnates\n",
    "    n = stripes[i,0] # assign n the row number of the stripe\n",
    "    m = stripes[i,1] # assign m the column number of the stripe\n",
    "    ass_image[n,m] = colours[i] # assign the colour according to the label\n",
    "\n",
    "\n",
    "\n",
    "plt.imshow(ass_image.astype('uint8'))\n",
    "plt.show()\n",
    "plt.imsave('stripes.png', ass_image.astype('uint8'))\n"
   ],
   "metadata": {
    "collapsed": false,
    "pycharm": {
     "name": "#%%\n"
    }
   }
  },
  {
   "cell_type": "code",
   "execution_count": 213,
   "outputs": [
    {
     "data": {
      "text/plain": "(array([ 0.,  6.,  9., 12., 15., 16.]),\n array([2968,   15,    5,    3,    4,    5], dtype=int64))"
     },
     "execution_count": 213,
     "metadata": {},
     "output_type": "execute_result"
    }
   ],
   "source": [
    "np.unique(assesment_image[:,2000], return_counts=True)"
   ],
   "metadata": {
    "collapsed": false,
    "pycharm": {
     "name": "#%%\n"
    }
   }
  },
  {
   "cell_type": "code",
   "execution_count": null,
   "outputs": [],
   "source": [],
   "metadata": {
    "collapsed": false,
    "pycharm": {
     "name": "#%%\n"
    }
   }
  }
 ],
 "metadata": {
  "kernelspec": {
   "display_name": "Python 3 (ipykernel)",
   "language": "python",
   "name": "python3"
  },
  "language_info": {
   "codemirror_mode": {
    "name": "ipython",
    "version": 3
   },
   "file_extension": ".py",
   "mimetype": "text/x-python",
   "name": "python",
   "nbconvert_exporter": "python",
   "pygments_lexer": "ipython3",
   "version": "3.8.12"
  }
 },
 "nbformat": 4,
 "nbformat_minor": 4
}